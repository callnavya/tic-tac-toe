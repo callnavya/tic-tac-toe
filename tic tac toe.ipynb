{
 "cells": [
  {
   "cell_type": "code",
   "execution_count": 1,
   "metadata": {},
   "outputs": [],
   "source": [
    "from IPython.display import clear_output\n",
    "def display_board(board):\n",
    "    clear_output()\n",
    "    print(board[1]+'|'+board[2]+'|'+board[3])\n",
    "    print('-----------------')\n",
    "    print(board[4]+'|'+board[5]+'|'+board[6])\n",
    "    print('-----------------')\n",
    "    print(board[7]+'|'+board[8]+'|'+board[9])\n",
    "    \n"
   ]
  },
  {
   "cell_type": "code",
   "execution_count": 2,
   "metadata": {},
   "outputs": [
    {
     "name": "stdout",
     "output_type": "stream",
     "text": [
      "X|O|X\n",
      "-----------------\n",
      "O|X|O\n",
      "-----------------\n",
      "X|O|X\n"
     ]
    }
   ],
   "source": [
    "test_board = ['#','X','O','X','O','X','O','X','O','X']\n",
    "display_board(test_board)"
   ]
  },
  {
   "cell_type": "code",
   "execution_count": 3,
   "metadata": {},
   "outputs": [],
   "source": [
    "\n",
    "def player_input():\n",
    "    marker=''\n",
    "    \n",
    "    while marker!='X' and marker!='O':\n",
    "        marker= input('player1 choose X or O: ')\n",
    "    if marker=='X':\n",
    "        return ('X','O')\n",
    "    else:\n",
    "        return ('O','X')\n",
    "        \n",
    "        "
   ]
  },
  {
   "cell_type": "code",
   "execution_count": 4,
   "metadata": {},
   "outputs": [
    {
     "name": "stdout",
     "output_type": "stream",
     "text": [
      "player1 choose X or O: X\n"
     ]
    },
    {
     "data": {
      "text/plain": [
       "('X', 'O')"
      ]
     },
     "execution_count": 4,
     "metadata": {},
     "output_type": "execute_result"
    }
   ],
   "source": [
    "player_input()\n"
   ]
  },
  {
   "cell_type": "code",
   "execution_count": 5,
   "metadata": {},
   "outputs": [],
   "source": [
    "def place_marker(board, marker, position):\n",
    "    board[position]=marker\n",
    "    \n",
    "    \n",
    "    "
   ]
  },
  {
   "cell_type": "code",
   "execution_count": 6,
   "metadata": {},
   "outputs": [
    {
     "name": "stdout",
     "output_type": "stream",
     "text": [
      "X|O|X\n",
      "-----------------\n",
      "O|X|O\n",
      "-----------------\n",
      "X|$|X\n"
     ]
    }
   ],
   "source": [
    "place_marker(test_board,'$',8)\n",
    "display_board(test_board)\n"
   ]
  },
  {
   "cell_type": "code",
   "execution_count": 7,
   "metadata": {},
   "outputs": [],
   "source": [
    "def win_check(board,marker):\n",
    "    if board[1]==board[2]==board[3]==marker:\n",
    "        return True\n",
    "    if board[4]==board[5]==board[6]==marker:\n",
    "        return True\n",
    "    if board[7]==board[8]==board[9]==marker:\n",
    "        return True\n",
    "    if board[1]==board[5]==board[9]==marker:\n",
    "        return True\n",
    "    if board[3]==board[5]==board[7]==marker:\n",
    "        return True\n",
    "    if board[1]==board[4]==board[7]==marker:\n",
    "        return True\n",
    "    if board[2]==board[5]==board[8]==marker:\n",
    "        return True\n",
    "    if board[3]==board[6]==board[9]==marker:\n",
    "        return True\n",
    "    else:\n",
    "        return False\n",
    "    \n",
    "         \n",
    "    "
   ]
  },
  {
   "cell_type": "code",
   "execution_count": 8,
   "metadata": {},
   "outputs": [
    {
     "data": {
      "text/plain": [
       "True"
      ]
     },
     "execution_count": 8,
     "metadata": {},
     "output_type": "execute_result"
    }
   ],
   "source": [
    "win_check(test_board,'X')"
   ]
  },
  {
   "cell_type": "code",
   "execution_count": 9,
   "metadata": {},
   "outputs": [],
   "source": [
    "import random\n",
    "\n",
    "def choose_first():\n",
    "    a=random.randint(0,1)\n",
    "    if a==0:\n",
    "        return 'player 1'\n",
    "    else:\n",
    "        return 'player 2'\n",
    "    \n",
    "    "
   ]
  },
  {
   "cell_type": "code",
   "execution_count": 10,
   "metadata": {},
   "outputs": [
    {
     "data": {
      "text/plain": [
       "'player 2'"
      ]
     },
     "execution_count": 10,
     "metadata": {},
     "output_type": "execute_result"
    }
   ],
   "source": [
    "choose_first()"
   ]
  },
  {
   "cell_type": "code",
   "execution_count": 11,
   "metadata": {},
   "outputs": [],
   "source": [
    "def space_check(board,position):\n",
    "    return board[position]==' '\n",
    "    \n",
    "    "
   ]
  },
  {
   "cell_type": "code",
   "execution_count": 12,
   "metadata": {},
   "outputs": [
    {
     "data": {
      "text/plain": [
       "False"
      ]
     },
     "execution_count": 12,
     "metadata": {},
     "output_type": "execute_result"
    }
   ],
   "source": [
    "space_check(test_board,2)"
   ]
  },
  {
   "cell_type": "code",
   "execution_count": 13,
   "metadata": {},
   "outputs": [],
   "source": [
    "def full_board_check(board):\n",
    "    if board[1]=='X' or board[1]=='O':\n",
    "        if board[2]=='X' or board[2]=='O':\n",
    "            if board[3]=='X' or board[3]=='O':\n",
    "                if board[4]=='X' or board[4]=='O':\n",
    "                    if board[5]=='X' or board[5]=='O':\n",
    "                        if board[6]=='X' or board[6]=='O':\n",
    "                            if board[7]=='X' or board[7]=='O':\n",
    "                                if board[8]=='X' or board[8]=='O':\n",
    "                                    if board[9]=='X' or board[9]=='O':\n",
    "                                        return True\n",
    "    else:\n",
    "        return False\n",
    "                    \n",
    "                    \n",
    "        "
   ]
  },
  {
   "cell_type": "code",
   "execution_count": 14,
   "metadata": {},
   "outputs": [
    {
     "data": {
      "text/plain": [
       "True"
      ]
     },
     "execution_count": 14,
     "metadata": {},
     "output_type": "execute_result"
    }
   ],
   "source": [
    "test_board = ['#','X','O','X','O','X','O','X','O','X']\n",
    "full_board_check(test_board)"
   ]
  },
  {
   "cell_type": "code",
   "execution_count": 15,
   "metadata": {},
   "outputs": [],
   "source": [
    "def player_choice(board):\n",
    "    position=0\n",
    "    \n",
    "    while position not in [1,2,3,4,5,6,7,8,9] or not space_check(board,position):\n",
    "        position= int(input('enter a valid pos from 1-9 '))\n",
    "        return position\n",
    "    \n",
    "        \n",
    "    \n",
    "            \n",
    "    \n",
    "        "
   ]
  },
  {
   "cell_type": "code",
   "execution_count": 16,
   "metadata": {},
   "outputs": [
    {
     "name": "stdout",
     "output_type": "stream",
     "text": [
      "enter a valid pos from 1-9 4\n"
     ]
    },
    {
     "data": {
      "text/plain": [
       "4"
      ]
     },
     "execution_count": 16,
     "metadata": {},
     "output_type": "execute_result"
    }
   ],
   "source": [
    "player_choice(test_board)"
   ]
  },
  {
   "cell_type": "code",
   "execution_count": 17,
   "metadata": {},
   "outputs": [],
   "source": [
    "def replay():\n",
    "    ch=int(input('if you want to play again enter 1 else enter any other character'))\n",
    "    if ch==1:\n",
    "        return True\n",
    "    else:\n",
    "        return False"
   ]
  },
  {
   "cell_type": "code",
   "execution_count": 18,
   "metadata": {},
   "outputs": [
    {
     "name": "stdout",
     "output_type": "stream",
     "text": [
      "if you want to play again enter 1 else enter any other character1\n"
     ]
    },
    {
     "data": {
      "text/plain": [
       "True"
      ]
     },
     "execution_count": 18,
     "metadata": {},
     "output_type": "execute_result"
    }
   ],
   "source": [
    "replay()"
   ]
  },
  {
   "cell_type": "code",
   "execution_count": 19,
   "metadata": {},
   "outputs": [
    {
     "name": "stdout",
     "output_type": "stream",
     "text": [
      "O|X|O\n",
      "-----------------\n",
      "X|O|X\n",
      "-----------------\n",
      "O| | \n",
      "player 2 has won!\n",
      "if you want to play again enter 1 else enter any other character2\n"
     ]
    }
   ],
   "source": [
    "print('welcome to tic tac toe:')\n",
    "while True:\n",
    "    the_board=[' ']*10\n",
    "    \n",
    "    player1,player2=player_input()\n",
    "    \n",
    "    turn=choose_first()\n",
    "    print(turn+' will go first')\n",
    "    \n",
    "    play_game=input('ready to play? Y or N?')\n",
    "    if play_game=='Y':\n",
    "        gameon=True\n",
    "    else:\n",
    "        gameon=False\n",
    "        \n",
    "    while gameon:\n",
    "        if turn=='player1':\n",
    "            \n",
    "            display_board(the_board)\n",
    "            \n",
    "            position=player_choice(the_board)\n",
    "            \n",
    "            place_marker(the_board,player1,position)\n",
    "            display_board(the_board)\n",
    "            \n",
    "            if win_check(the_board,player1):\n",
    "                display_board(the_board)\n",
    "                print('player 1 has won!')\n",
    "                gameon==False\n",
    "            else:\n",
    "                if full_board_check(the_board):\n",
    "                    display_board(the_board)\n",
    "                    print('tie game!')\n",
    "                    gameon=False\n",
    "                else:\n",
    "                    turn='player2'\n",
    "                \n",
    "                \n",
    "            \n",
    "        else:\n",
    "            display_board(the_board)\n",
    "            \n",
    "            position=player_choice(the_board)\n",
    "            \n",
    "            place_marker(the_board,player2,position)\n",
    "            display_board(the_board)\n",
    "            \n",
    "            if win_check(the_board,player2):\n",
    "                display_board(the_board)\n",
    "                print('player 2 has won!')\n",
    "                break\n",
    "            else:\n",
    "                if full_board_check(the_board):\n",
    "                    display_board(the_board)\n",
    "                    print('tie game!')\n",
    "                    gameon=False\n",
    "                else:\n",
    "                    turn='player1'\n",
    "    if not replay():\n",
    "            break\n",
    "                \n",
    "    "
   ]
  },
  {
   "cell_type": "markdown",
   "metadata": {},
   "source": []
  },
  {
   "cell_type": "code",
   "execution_count": null,
   "metadata": {},
   "outputs": [],
   "source": []
  }
 ],
 "metadata": {
  "kernelspec": {
   "display_name": "Python 3",
   "language": "python",
   "name": "python3"
  },
  "language_info": {
   "codemirror_mode": {
    "name": "ipython",
    "version": 3
   },
   "file_extension": ".py",
   "mimetype": "text/x-python",
   "name": "python",
   "nbconvert_exporter": "python",
   "pygments_lexer": "ipython3",
   "version": "3.7.6"
  }
 },
 "nbformat": 4,
 "nbformat_minor": 4
}
